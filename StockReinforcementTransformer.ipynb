{
 "cells": [
  {
   "cell_type": "code",
   "execution_count": 1,
   "id": "a5ea15bd-9e5c-4a24-bbfe-5997683d77ac",
   "metadata": {},
   "outputs": [],
   "source": [
    "# pip uninstall torch torchvision torchaudio -y\n"
   ]
  },
  {
   "cell_type": "code",
   "execution_count": 2,
   "id": "9d095ac1-39dd-444b-af87-3108f1dc0879",
   "metadata": {},
   "outputs": [],
   "source": [
    "# pip install torch torchvision torchaudio --index-url https://download.pytorch.org/whl/cu118"
   ]
  },
  {
   "cell_type": "code",
   "execution_count": 1,
   "id": "7000d36f-5911-4d26-aef9-9275210603ce",
   "metadata": {},
   "outputs": [
    {
     "name": "stdout",
     "output_type": "stream",
     "text": [
      "PyTorch version: 2.5.0+cu118\n",
      "CUDA available: True\n",
      "Device name: NVIDIA GeForce RTX 2060\n"
     ]
    }
   ],
   "source": [
    "import torch\n",
    "\n",
    "print(f\"PyTorch version: {torch.__version__}\")\n",
    "print(f\"CUDA available: {torch.cuda.is_available()}\")\n",
    "\n",
    "if torch.cuda.is_available():\n",
    "    print(f\"Device name: {torch.cuda.get_device_name(0)}\")\n",
    "else:\n",
    "    print(\"CUDA is not available.\")"
   ]
  },
  {
   "cell_type": "code",
   "execution_count": 2,
   "id": "de0d8354-be55-4384-a568-e727b849db0f",
   "metadata": {},
   "outputs": [],
   "source": [
    "# !pip install yfinance"
   ]
  },
  {
   "cell_type": "code",
   "execution_count": 3,
   "id": "2c4b96a9-8434-409e-ba53-85bdf7176eb3",
   "metadata": {},
   "outputs": [],
   "source": [
    "import math\n",
    "import numpy as np\n",
    "import pandas as pd\n",
    "\n",
    "import torch\n",
    "import torch.nn as nn\n",
    "import torch.optim as optim\n",
    "from torch.utils.data import Dataset, DataLoader\n",
    "\n",
    "import yfinance as yf"
   ]
  },
  {
   "cell_type": "code",
   "execution_count": 7,
   "id": "ee266c15-9121-4a9c-8c38-b499209100f8",
   "metadata": {},
   "outputs": [],
   "source": [
    "def calculate_bollinger_bands(data, window=10, num_of_std=2):\n",
    "    \"\"\"Calculate Bollinger Bands\"\"\"\n",
    "    rolling_mean = data.rolling(window=window).mean()\n",
    "    rolling_std = data.rolling(window=window).std()\n",
    "    upper_band = rolling_mean + (rolling_std * num_of_std)\n",
    "    lower_band = rolling_mean - (rolling_std * num_of_std)\n",
    "    return upper_band, lower_band\n",
    "\n",
    "def calculate_rsi(data, window=10):\n",
    "    \"\"\"Calculate Relative Strength Index\"\"\"\n",
    "    delta = data.diff()\n",
    "    gain = delta.clip(lower=0)\n",
    "    loss = -delta.clip(upper=0)\n",
    "    avg_gain = gain.rolling(window=window, min_periods=1).mean()\n",
    "    avg_loss = loss.rolling(window=window, min_periods=1).mean()\n",
    "    rs = avg_gain / avg_loss\n",
    "    rsi = 100 - (100 / (1 + rs))\n",
    "    return rsi\n",
    "\n",
    "def calculate_roc(data, periods=10):\n",
    "    \"\"\"Calculate Rate of Change.\"\"\"\n",
    "    roc = ((data - data.shift(periods)) / data.shift(periods)) * 100\n",
    "    return roc"
   ]
  },
  {
   "cell_type": "code",
   "execution_count": 9,
   "id": "2b4183d0-43b8-4eb5-b189-94a504535148",
   "metadata": {},
   "outputs": [
    {
     "name": "stderr",
     "output_type": "stream",
     "text": [
      "[*********************100%***********************]  1 of 1 completed\n"
     ]
    }
   ],
   "source": [
    "data = yf.download('META', period=\"1mo\", interval=\"15m\")\n"
   ]
  },
  {
   "cell_type": "code",
   "execution_count": 11,
   "id": "186ce364-6e51-443d-ab34-272f9b578508",
   "metadata": {},
   "outputs": [
    {
     "data": {
      "text/plain": [
       "<bound method NDFrame.head of Price                       Adj Close       Close        High         Low  \\\n",
       "Ticker                           META        META        META        META   \n",
       "Datetime                                                                    \n",
       "2024-09-30 09:30:00+00:00  568.869995  568.869995  570.379883  565.400085   \n",
       "2024-09-30 09:45:00+00:00  567.210022  567.210022  570.190002  567.140015   \n",
       "2024-09-30 10:00:00+00:00  565.849976  565.849976  567.719910  564.799988   \n",
       "2024-09-30 10:15:00+00:00  568.260010  568.260010  568.349976  565.300476   \n",
       "2024-09-30 10:30:00+00:00  568.119995  568.119995  569.000000  567.460022   \n",
       "...                               ...         ...         ...         ...   \n",
       "2024-10-28 12:30:00+00:00  577.789978  577.789978  577.919922  576.599976   \n",
       "2024-10-28 12:45:00+00:00  577.210022  577.210022  578.010010  577.039978   \n",
       "2024-10-28 13:00:00+00:00  576.869995  576.869995  577.596497  576.740112   \n",
       "2024-10-28 13:15:00+00:00  577.724976  577.724976  578.079895  576.775024   \n",
       "2024-10-28 13:30:00+00:00  577.960022  577.960022  577.960022  577.650024   \n",
       "\n",
       "Price                            Open   Volume  \n",
       "Ticker                           META     META  \n",
       "Datetime                                        \n",
       "2024-09-30 09:30:00+00:00  566.000000  1017797  \n",
       "2024-09-30 09:45:00+00:00  568.984985   333426  \n",
       "2024-09-30 10:00:00+00:00  567.210022   338311  \n",
       "2024-09-30 10:15:00+00:00  565.719971   255457  \n",
       "2024-09-30 10:30:00+00:00  568.280029   190160  \n",
       "...                               ...      ...  \n",
       "2024-10-28 12:30:00+00:00  577.635010   142759  \n",
       "2024-10-28 12:45:00+00:00  577.700012   248055  \n",
       "2024-10-28 13:00:00+00:00  577.178223   141507  \n",
       "2024-10-28 13:15:00+00:00  576.775024   198835  \n",
       "2024-10-28 13:30:00+00:00  577.698792    15967  \n",
       "\n",
       "[537 rows x 6 columns]>"
      ]
     },
     "execution_count": 11,
     "metadata": {},
     "output_type": "execute_result"
    }
   ],
   "source": [
    "data.head"
   ]
  },
  {
   "cell_type": "code",
   "execution_count": 61,
   "id": "b37710b6-42a9-4fdc-98b9-c34d24a9711d",
   "metadata": {},
   "outputs": [
    {
     "name": "stdout",
     "output_type": "stream",
     "text": [
      "Processing META...\n"
     ]
    },
    {
     "name": "stderr",
     "output_type": "stream",
     "text": [
      "[*********************100%***********************]  1 of 1 completed\n",
      "[*********************100%***********************]  1 of 1 completed\n"
     ]
    },
    {
     "name": "stdout",
     "output_type": "stream",
     "text": [
      "Finished processing META.\n",
      "Processing AAPL...\n",
      "Finished processing AAPL.\n",
      "Processing MSFT...\n"
     ]
    },
    {
     "name": "stderr",
     "output_type": "stream",
     "text": [
      "[*********************100%***********************]  1 of 1 completed\n",
      "[*********************100%***********************]  1 of 1 completed\n"
     ]
    },
    {
     "name": "stdout",
     "output_type": "stream",
     "text": [
      "Finished processing MSFT.\n",
      "Processing AMZN...\n",
      "Finished processing AMZN.\n",
      "Processing GOOG...\n"
     ]
    },
    {
     "name": "stderr",
     "output_type": "stream",
     "text": [
      "[*********************100%***********************]  1 of 1 completed\n"
     ]
    },
    {
     "name": "stdout",
     "output_type": "stream",
     "text": [
      "Finished processing GOOG.\n",
      "Columns after adding 'date': ['META_open', 'META_close', 'META_high', 'META_low', 'META_volume', 'META_daily_return', 'META_ma10', 'META_ma30', 'META_bollinger_upper', 'META_bollinger_lower', 'META_rsi', 'META_roc', 'AAPL_open', 'AAPL_close', 'AAPL_high', 'AAPL_low', 'AAPL_volume', 'AAPL_daily_return', 'AAPL_ma10', 'AAPL_ma30', 'AAPL_bollinger_upper', 'AAPL_bollinger_lower', 'AAPL_rsi', 'AAPL_roc', 'MSFT_open', 'MSFT_close', 'MSFT_high', 'MSFT_low', 'MSFT_volume', 'MSFT_daily_return', 'MSFT_ma10', 'MSFT_ma30', 'MSFT_bollinger_upper', 'MSFT_bollinger_lower', 'MSFT_rsi', 'MSFT_roc', 'AMZN_open', 'AMZN_close', 'AMZN_high', 'AMZN_low', 'AMZN_volume', 'AMZN_daily_return', 'AMZN_ma10', 'AMZN_ma30', 'AMZN_bollinger_upper', 'AMZN_bollinger_lower', 'AMZN_rsi', 'AMZN_roc', 'GOOG_open', 'GOOG_close', 'GOOG_high', 'GOOG_low', 'GOOG_volume', 'GOOG_daily_return', 'GOOG_ma10', 'GOOG_ma30', 'GOOG_bollinger_upper', 'GOOG_bollinger_lower', 'GOOG_rsi', 'GOOG_roc']\n",
      "First few rows:\n",
      "                            META_open  META_close  META_high  META_low  \\\n",
      "Datetime                                                                \n",
      "2022-11-03 18:30:00+00:00  -1.813951   -1.815469  -1.818309 -1.812681   \n",
      "2022-11-03 19:30:00+00:00  -1.814411   -1.820030  -1.816618 -1.816170   \n",
      "2022-11-04 13:30:00+00:00  -1.808720   -1.811353  -1.806613 -1.819328   \n",
      "2022-11-04 14:30:00+00:00  -1.811901   -1.818069  -1.812919 -1.815283   \n",
      "2022-11-04 15:30:00+00:00  -1.816991   -1.817661  -1.819789 -1.821031   \n",
      "\n",
      "                           META_volume  META_daily_return  META_ma10  \\\n",
      "Datetime                                                               \n",
      "2022-11-03 18:30:00+00:00     0.951389          -0.140847  -1.803305   \n",
      "2022-11-03 19:30:00+00:00     1.235914          -0.793121  -1.806068   \n",
      "2022-11-04 13:30:00+00:00     5.009272           1.346052  -1.809486   \n",
      "2022-11-04 14:30:00+00:00     1.505617          -1.132670  -1.811280   \n",
      "2022-11-04 15:30:00+00:00     1.216831           0.006183  -1.812189   \n",
      "\n",
      "                           META_ma30  META_bollinger_upper  \\\n",
      "Datetime                                                     \n",
      "2022-11-03 18:30:00+00:00  -1.772503             -1.793085   \n",
      "2022-11-03 19:30:00+00:00  -1.774860             -1.797119   \n",
      "2022-11-04 13:30:00+00:00  -1.777088             -1.814673   \n",
      "2022-11-04 14:30:00+00:00  -1.779444             -1.821281   \n",
      "2022-11-04 15:30:00+00:00  -1.780806             -1.824282   \n",
      "\n",
      "                           META_bollinger_lower  ...  GOOG_high  GOOG_low  \\\n",
      "Datetime                                         ...                        \n",
      "2022-11-03 18:30:00+00:00             -1.810744  ...  -1.834366 -1.828926   \n",
      "2022-11-03 19:30:00+00:00             -1.812195  ...  -1.848153 -1.842363   \n",
      "2022-11-04 13:30:00+00:00             -1.801079  ...  -1.775100 -1.826914   \n",
      "2022-11-04 14:30:00+00:00             -1.797923  ...  -1.771877 -1.796016   \n",
      "2022-11-04 15:30:00+00:00             -1.796680  ...  -1.796587 -1.814698   \n",
      "\n",
      "                           GOOG_volume  GOOG_daily_return  GOOG_ma10  \\\n",
      "Datetime                                                               \n",
      "2022-11-03 18:30:00+00:00     2.158893          -0.747119  -1.744770   \n",
      "2022-11-03 19:30:00+00:00     2.084350          -0.838906  -1.765470   \n",
      "2022-11-04 13:30:00+00:00     4.167623           3.992302  -1.783678   \n",
      "2022-11-04 14:30:00+00:00     1.538394          -1.748530  -1.795434   \n",
      "2022-11-04 15:30:00+00:00     0.544144           0.975601  -1.801209   \n",
      "\n",
      "                           GOOG_ma30  GOOG_bollinger_upper  \\\n",
      "Datetime                                                     \n",
      "2022-11-03 18:30:00+00:00  -1.574919             -1.641445   \n",
      "2022-11-03 19:30:00+00:00  -1.589995             -1.665930   \n",
      "2022-11-04 13:30:00+00:00  -1.603100             -1.745133   \n",
      "2022-11-04 14:30:00+00:00  -1.617107             -1.783574   \n",
      "2022-11-04 15:30:00+00:00  -1.627975             -1.807299   \n",
      "\n",
      "                           GOOG_bollinger_lower  GOOG_rsi  GOOG_roc  \n",
      "Datetime                                                             \n",
      "2022-11-03 18:30:00+00:00             -1.843981 -1.449597 -2.678789  \n",
      "2022-11-03 19:30:00+00:00             -1.860802 -1.539194 -2.967649  \n",
      "2022-11-04 13:30:00+00:00             -1.817411 -1.281269 -2.575122  \n",
      "2022-11-04 14:30:00+00:00             -1.802207 -1.038885 -1.748116  \n",
      "2022-11-04 15:30:00+00:00             -1.789853 -0.601547 -0.917268  \n",
      "\n",
      "[5 rows x 60 columns]\n"
     ]
    }
   ],
   "source": [
    "import pandas as pd\n",
    "import numpy as np\n",
    "import yfinance as yf\n",
    "\n",
    "tickers = ['META', 'AAPL', 'MSFT', 'AMZN', 'GOOG']\n",
    "\n",
    "# Initialize containers\n",
    "ticker_data_frames = []\n",
    "stats = {}\n",
    "\n",
    "# Define sequence length (in days)\n",
    "SEQUENCE_LEN = 30  # 30 days\n",
    "\n",
    "for ticker in tickers:\n",
    "    print(f\"Processing {ticker}...\")\n",
    "    # Download historical data at 1-hour intervals\n",
    "    data = yf.download(ticker, period=\"2y\", interval=\"1h\")\n",
    "    \n",
    "    if data.empty:\n",
    "        print(f\"No data found for {ticker}. Skipping.\")\n",
    "        continue  # Skip to the next ticker if no data is found\n",
    "\n",
    "    # Extract features\n",
    "    open_price = data['Open'].squeeze()\n",
    "    close_price = data['Close'].squeeze()\n",
    "    high = data['High'].squeeze()\n",
    "    low = data['Low'].squeeze()\n",
    "    volume = data['Volume'].squeeze()\n",
    "    \n",
    "    # Calculate technical indicators\n",
    "    daily_return = close_price.pct_change()\n",
    "    moving_avg_10 = close_price.rolling(window=10).mean()\n",
    "    moving_avg_30 = close_price.rolling(window=30).mean()\n",
    "    bollinger_upper, bollinger_lower = calculate_bollinger_bands(close_price)\n",
    "    rsi = calculate_rsi(close_price)\n",
    "    roc = calculate_roc(close_price)\n",
    "    \n",
    "    # Create a dictionary of variables\n",
    "    variables = {\n",
    "        ticker + '_open': open_price,\n",
    "        ticker + '_close': close_price,\n",
    "        ticker + '_high': high,\n",
    "        ticker + '_low': low,\n",
    "        ticker + '_volume': volume,\n",
    "        ticker + '_daily_return': daily_return,\n",
    "        ticker + '_ma10': moving_avg_10,\n",
    "        ticker + '_ma30': moving_avg_30,\n",
    "        ticker + '_bollinger_upper': bollinger_upper,\n",
    "        ticker + '_bollinger_lower': bollinger_lower,\n",
    "        ticker + '_rsi': rsi,\n",
    "        ticker + '_roc': roc,\n",
    "    }\n",
    "    \n",
    "    # Create DataFrame from the variables dictionary\n",
    "    ticker_df = pd.DataFrame(variables)\n",
    "    \n",
    "    # Handle missing values\n",
    "    ticker_df.dropna(inplace=True)\n",
    "    \n",
    "    if ticker_df.empty:\n",
    "        print(f\"No data left for {ticker} after dropping NaNs.\")\n",
    "        continue\n",
    "    \n",
    "    # Calculate mean and std for normalization\n",
    "    MEAN = ticker_df.mean()\n",
    "    STD = ticker_df.std()\n",
    "    \n",
    "    # Store stats for each feature\n",
    "    for column in MEAN.index:\n",
    "        stats[f\"{column}_mean\"] = MEAN[column]\n",
    "        stats[f\"{column}_std\"] = STD[column]\n",
    "    \n",
    "    # Normalize the data\n",
    "    ticker_df = (ticker_df - MEAN) / STD\n",
    "    \n",
    "    ticker_data_frames.append(ticker_df)\n",
    "    print(f\"Finished processing {ticker}.\")\n",
    "\n",
    "# Combine all ticker data into a single DataFrame\n",
    "df = pd.concat(ticker_data_frames, axis=1)\n",
    "\n",
    "# Handle any remaining missing values\n",
    "df.dropna(inplace=True)\n",
    "\n",
    "# Ensure the index is DateTime and create a 'date' column\n",
    "df.index = pd.to_datetime(df.index)\n",
    "# df['date'] = df.index.date\n",
    "\n",
    "# Verify the 'date' column\n",
    "print(\"Columns after adding 'date':\", df.columns.tolist())\n",
    "print(\"First few rows:\\n\", df.head())\n"
   ]
  },
  {
   "cell_type": "code",
   "execution_count": 63,
   "id": "ecddeeed-5b4b-4dd3-9263-e12ea4c26245",
   "metadata": {},
   "outputs": [
    {
     "name": "stdout",
     "output_type": "stream",
     "text": [
      "Total sequences: 3433\n",
      "Sequence shape: (3433, 30, 55)\n",
      "Labels shape: (3433, 5)\n"
     ]
    }
   ],
   "source": [
    "# Define window size (number of past data points)\n",
    "WINDOW_SIZE = 30  # For example, last 30 hours\n",
    "\n",
    "# Define feature columns (all columns except 'date' and closing prices if needed)\n",
    "feature_columns = [col for col in df.columns if col.endswith(('_open', '_high', '_low', '_volume', '_daily_return', '_ma10', '_ma30', '_bollinger_upper', '_bollinger_lower', '_rsi', '_roc'))]\n",
    "\n",
    "# Extract features and labels\n",
    "features = df[feature_columns].values  # Shape: (num_samples, num_features)\n",
    "\n",
    "# Define label columns (closing prices for all tickers)\n",
    "label_columns = [f\"{ticker}_close\" for ticker in tickers]\n",
    "labels = df[label_columns].values  # Shape: (num_samples, num_tickers)\n",
    "\n",
    "# Initialize lists to store sequences and labels\n",
    "sequences_list = []\n",
    "labels_list = []\n",
    "\n",
    "# Iterate to create sequences\n",
    "for i in range(WINDOW_SIZE, len(features)):\n",
    "    # Extract the window of past data points\n",
    "    window = features[i - WINDOW_SIZE:i]  # Shape: (WINDOW_SIZE, num_features)\n",
    "    \n",
    "    # Label: next closing prices for all tickers\n",
    "    label = labels[i]  # Shape: (num_tickers,)\n",
    "    \n",
    "    # Append the sequence and label to the lists\n",
    "    sequences_list.append(window)\n",
    "    labels_list.append(label)\n",
    "\n",
    "print(f\"Total sequences: {len(sequences_list)}\")\n",
    "print(f\"Sequence shape: {np.array(sequences_list).shape}\")  # Expected: (num_samples - WINDOW_SIZE, WINDOW_SIZE, num_features)\n",
    "print(f\"Labels shape: {np.array(labels_list).shape}\")        # Expected: (num_samples - WINDOW_SIZE, num_tickers)\n"
   ]
  },
  {
   "cell_type": "code",
   "execution_count": 65,
   "id": "71d39b77-fe7c-4fef-93ac-35eba7cd63df",
   "metadata": {},
   "outputs": [
    {
     "name": "stdout",
     "output_type": "stream",
     "text": [
      "NaNs in sequences: False\n",
      "NaNs in labels: False\n"
     ]
    }
   ],
   "source": [
    "import numpy as np\n",
    "\n",
    "# Convert lists to numpy arrays\n",
    "all_sequences = np.array(sequences_list)\n",
    "all_labels = np.array(labels_list)\n",
    "\n",
    "# Check for NaNs in sequences and labels\n",
    "print(f\"NaNs in sequences: {np.isnan(all_sequences).any()}\")\n",
    "print(f\"NaNs in labels: {np.isnan(all_labels).any()}\")\n"
   ]
  },
  {
   "cell_type": "code",
   "execution_count": 67,
   "id": "b5922793-a943-42b1-aff1-2255480e7a65",
   "metadata": {},
   "outputs": [
    {
     "name": "stdout",
     "output_type": "stream",
     "text": [
      "\n",
      "Sample 1:\n",
      "Sequence (Last 30 data points):\n",
      "[[-1.81395138 -1.8183092  -1.81268102 ... -1.84398146 -1.44959726\n",
      "  -2.67878944]\n",
      " [-1.81441087 -1.81661816 -1.81617028 ... -1.86080222 -1.53919401\n",
      "  -2.96764865]\n",
      " [-1.80872046 -1.80661273 -1.81932815 ... -1.81741139 -1.28126897\n",
      "  -2.57512236]\n",
      " ...\n",
      " [-1.72086329 -1.72551229 -1.72281802 ... -1.6347019  -1.05239104\n",
      "  -1.14851935]\n",
      " [-1.7216324  -1.72713222 -1.72594042 ... -1.6398764  -0.9453778\n",
      "  -0.96402674]\n",
      " [-1.72658056 -1.73079686 -1.72892087 ... -1.65216213 -0.79068225\n",
      "  -0.73675873]]\n",
      "Label (Next Closing Prices):\n",
      "[-1.69203955 -1.46010723 -1.69043174 -1.37396367 -1.50537123]\n",
      "Label Tickers: ['META', 'AAPL', 'MSFT', 'AMZN', 'GOOG']\n",
      "\n",
      "Sample 2:\n",
      "Sequence (Last 30 data points):\n",
      "[[-1.81441087 -1.81661816 -1.81617028 ... -1.86080222 -1.53919401\n",
      "  -2.96764865]\n",
      " [-1.80872046 -1.80661273 -1.81932815 ... -1.81741139 -1.28126897\n",
      "  -2.57512236]\n",
      " [-1.81190141 -1.81291895 -1.81528324 ... -1.80220698 -1.03888464\n",
      "  -1.74811603]\n",
      " ...\n",
      " [-1.7216324  -1.72713222 -1.72594042 ... -1.6398764  -0.9453778\n",
      "  -0.96402674]\n",
      " [-1.72658056 -1.73079686 -1.72892087 ... -1.65216213 -0.79068225\n",
      "  -0.73675873]\n",
      " [-1.68628822 -1.6888022  -1.70379984 ... -1.70538838  1.22202948\n",
      "   2.71276342]]\n",
      "Label (Next Closing Prices):\n",
      "[-1.67803832 -1.47382618 -1.68685434 -1.31349042 -1.49604304]\n",
      "Label Tickers: ['META', 'AAPL', 'MSFT', 'AMZN', 'GOOG']\n",
      "\n",
      "Sample 3:\n",
      "Sequence (Last 30 data points):\n",
      "[[-1.80872046 -1.80661273 -1.81932815 ... -1.81741139 -1.28126897\n",
      "  -2.57512236]\n",
      " [-1.81190141 -1.81291895 -1.81528324 ... -1.80220698 -1.03888464\n",
      "  -1.74811603]\n",
      " [-1.81699098 -1.81978893 -1.8210313  ... -1.78985312 -0.60154703\n",
      "  -0.91726846]\n",
      " ...\n",
      " [-1.72658056 -1.73079686 -1.72892087 ... -1.65216213 -0.79068225\n",
      "  -0.73675873]\n",
      " [-1.68628822 -1.6888022  -1.70379984 ... -1.70538838  1.22202948\n",
      "   2.71276342]\n",
      " [-1.69102433 -1.68246072 -1.69166512 ... -1.73001493  1.08671852\n",
      "   2.06114466]]\n",
      "Label (Next Closing Prices):\n",
      "[-1.6737404  -1.46849107 -1.66643238 -1.31549379 -1.4978368 ]\n",
      "Label Tickers: ['META', 'AAPL', 'MSFT', 'AMZN', 'GOOG']\n"
     ]
    }
   ],
   "source": [
    "def print_sample(sequence, label, tickers, index=0):\n",
    "    print(f\"\\nSample {index + 1}:\")\n",
    "    print(\"Sequence (Last 30 data points):\")\n",
    "    print(sequence)\n",
    "    print(\"Label (Next Closing Prices):\")\n",
    "    print(label)\n",
    "    print(\"Label Tickers:\", tickers)\n",
    "\n",
    "# Select a sample index\n",
    "sample_idx = 0\n",
    "\n",
    "# Print the first sample\n",
    "print_sample(all_sequences[sample_idx], all_labels[sample_idx], tickers, index=sample_idx)\n",
    "\n",
    "# Optionally, inspect a few more samples\n",
    "for i in range(1, 3):\n",
    "    print_sample(all_sequences[i], all_labels[i], tickers, index=i)\n"
   ]
  },
  {
   "cell_type": "code",
   "execution_count": 69,
   "id": "23b8a40e-e890-4eea-840e-d099de6b667b",
   "metadata": {},
   "outputs": [
    {
     "name": "stdout",
     "output_type": "stream",
     "text": [
      "\n",
      "Verifying Sample 1:\n",
      "Label DateTime: 2022-11-10 14:30:00+00:00\n",
      "Sequence matches the expected data.\n"
     ]
    }
   ],
   "source": [
    "# Select a specific sample to verify\n",
    "sample_idx = 0\n",
    "\n",
    "# Get the corresponding datetime for the label\n",
    "label_datetime = df.index[WINDOW_SIZE + sample_idx]\n",
    "\n",
    "print(f\"\\nVerifying Sample {sample_idx + 1}:\")\n",
    "print(f\"Label DateTime: {label_datetime}\")\n",
    "\n",
    "# Extract the actual closing prices from the DataFrame\n",
    "actual_close = df.loc[label_datetime, label_columns].values\n",
    "\n",
    "# Extract the sequence from the DataFrame\n",
    "sequence_start_idx = sample_idx\n",
    "sequence_end_idx = sample_idx + WINDOW_SIZE\n",
    "actual_sequence = df.iloc[sequence_start_idx:sequence_end_idx][feature_columns].values\n",
    "\n",
    "# Compare with the generated sequence\n",
    "generated_sequence = all_sequences[sample_idx]\n",
    "if np.array_equal(actual_sequence, generated_sequence):\n",
    "    print(\"Sequence matches the expected data.\")\n",
    "else:\n",
    "    print(\"Sequence does NOT match the expected data.\")\n"
   ]
  },
  {
   "cell_type": "code",
   "execution_count": null,
   "id": "506a2325-5314-4b40-a5ff-7804b96b6af9",
   "metadata": {},
   "outputs": [],
   "source": []
  }
 ],
 "metadata": {
  "kernelspec": {
   "display_name": "Python 3 (ipykernel)",
   "language": "python",
   "name": "python3"
  },
  "language_info": {
   "codemirror_mode": {
    "name": "ipython",
    "version": 3
   },
   "file_extension": ".py",
   "mimetype": "text/x-python",
   "name": "python",
   "nbconvert_exporter": "python",
   "pygments_lexer": "ipython3",
   "version": "3.12.4"
  }
 },
 "nbformat": 4,
 "nbformat_minor": 5
}
